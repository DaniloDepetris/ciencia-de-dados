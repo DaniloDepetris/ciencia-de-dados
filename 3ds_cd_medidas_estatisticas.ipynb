{
  "nbformat": 4,
  "nbformat_minor": 0,
  "metadata": {
    "colab": {
      "provenance": [],
      "authorship_tag": "ABX9TyNvZF2ApYMyfDf8JLRWRUCK",
      "include_colab_link": true
    },
    "kernelspec": {
      "name": "python3",
      "display_name": "Python 3"
    },
    "language_info": {
      "name": "python"
    }
  },
  "cells": [
    {
      "cell_type": "markdown",
      "metadata": {
        "id": "view-in-github",
        "colab_type": "text"
      },
      "source": [
        "<a href=\"https://colab.research.google.com/github/DaniloDepetris/ciencia-de-dados/blob/main/3ds_cd_medidas_estatisticas.ipynb\" target=\"_parent\"><img src=\"https://colab.research.google.com/assets/colab-badge.svg\" alt=\"Open In Colab\"/></a>"
      ]
    },
    {
      "cell_type": "code",
      "execution_count": null,
      "metadata": {
        "colab": {
          "base_uri": "https://localhost:8080/",
          "height": 568
        },
        "id": "5Cxz-45euJ_I",
        "outputId": "b8a45a86-5f89-46c0-eba5-c8e3a587d3a6"
      },
      "outputs": [
        {
          "output_type": "stream",
          "name": "stdout",
          "text": [
            "Quartis: Q1=25.0, Q2=50.0, Q3=75.0\n",
            "Decis:\n",
            "D1: 20.0\n",
            "D2: 20.0\n",
            "D3: 30.0\n",
            "D4: 40.0\n",
            "D5: 50.0\n",
            "D6: 60.0\n",
            "D7: 70.0\n",
            "D8: 80.0\n",
            "D9: 90.0\n",
            "Percentis (1º ao 99º):\n",
            "[11. 12. 13. 14. 15. 16. 17. 18. 19. 20. 20. 20. 20. 20. 20. 20. 20. 20.\n",
            " 20. 20. 21. 22. 23. 24. 25. 26. 27. 28. 29. 30. 31. 32. 33. 34. 35. 36.\n",
            " 37. 38. 39. 40. 41. 42. 43. 44. 45. 46. 47. 48. 49. 50. 51. 52. 53. 54.\n",
            " 55. 56. 57. 58. 59. 60. 61. 62. 63. 64. 65. 66. 67. 68. 69. 70. 71. 72.\n",
            " 73. 74. 75. 76. 77. 78. 79. 80. 81. 82. 83. 84. 85. 86. 87. 88. 89. 90.\n",
            " 91. 92. 93. 94. 95. 96. 97. 98. 99.]\n"
          ]
        },
        {
          "output_type": "display_data",
          "data": {
            "text/plain": [
              "<Figure size 800x200 with 1 Axes>"
            ],
            "image/png": "[encoded data removed]"
          },
          "metadata": {}
        }
      ],
      "source": [
        "# Instalar bibliotecas (caso necessário)\n",
        "# !pip install numpy pandas matplotlib\n",
        "\n",
        "import numpy as np\n",
        "import pandas as pd\n",
        "import matplotlib.pyplot as plt\n",
        "\n",
        "# Conjunto de dados exemplo\n",
        "dados = [10, 20, 20, 30, 40, 50, 60, 70, 80, 90, 100]\n",
        "\n",
        "# Calcular quartis\n",
        "quartis = np.percentile(dados, [25, 50, 75])\n",
        "print(f\"Quartis: Q1={quartis[0]}, Q2={quartis[1]}, Q3={quartis[2]}\")\n",
        "\n",
        "# Calcular decis\n",
        "decis = np.percentile(dados, np.arange(10, 100, 10))\n",
        "print(\"Decis:\")\n",
        "for i, valor in enumerate(decis, start=1):\n",
        "    print(f\"D{i}: {valor}\")\n",
        "\n",
        "# Calcular percentis\n",
        "percentis = np.percentile(dados, np.arange(1, 100, 1))\n",
        "print(\"Percentis (1º ao 99º):\")\n",
        "print(percentis)\n",
        "\n",
        "# Visualização com boxplot\n",
        "plt.figure(figsize=(8, 2))\n",
        "plt.boxplot(dados, vert=False)\n",
        "plt.title(\"Boxplot das Notas\")\n",
        "plt.xlabel(\"Notas\")\n",
        "plt.grid(True)\n",
        "plt.show()\n",
        "\n",
        "\n"
      ]
    },
    {
      "cell_type": "code",
      "source": [
        "# Instalar bibliotecas (caso necessário)\n",
        "# !pip install numpy pandas matplotlib\n",
        "\n",
        "import numpy as np\n",
        "import pandas as pd\n",
        "import matplotlib.pyplot as plt\n",
        "\n",
        "# Conjunto de dados exemplo\n",
        "dados = [2, 3, 5, 7, 8, 10, 15, 18, 20, 22, 25, 30]\n",
        "\n",
        "# Calcular quartis\n",
        "quartis = np.percentile(dados, [25, 50, 75])\n",
        "print(f\"Quartis: Q1={quartis[0]}, Q2={quartis[1]}, Q3={quartis[2]}\")\n",
        "\n",
        "# Calcular decis\n",
        "decis = np.percentile(dados, np.arange(10, 100, 10))\n",
        "print(\"Decis:\")\n",
        "for i, valor in enumerate(decis, start=1):\n",
        "    print(f\"D{i}: {valor}\")\n",
        "\n",
        "# Calcular percentis\n",
        "percentis = np.percentile(dados, np.arange(1, 100, 1))\n",
        "print(\"Percentis (1º ao 99º):\")\n",
        "print(percentis)\n",
        "\n",
        "# Visualização com boxplot\n",
        "plt.figure(figsize=(8, 2))\n",
        "plt.boxplot(dados, vert=False)\n",
        "plt.title(\"Boxplot das Notas\")\n",
        "plt.xlabel(\"Notas\")\n",
        "plt.grid(True)\n",
        "plt.show()\n",
        "\n",
        "\n"
      ],
      "metadata": {
        "colab": {
          "base_uri": "https://localhost:8080/",
          "height": 621
        },
        "id": "Zoq7bXlQvpz7",
        "outputId": "63dfe50a-396a-4a8d-9f9a-4eda5db3eb25"
      },
      "execution_count": 1,
      "outputs": [
        {
          "output_type": "stream",
          "name": "stdout",
          "text": [
            "Quartis: Q1=6.5, Q2=12.5, Q3=20.5\n",
            "Decis:\n",
            "D1: 3.2\n",
            "D2: 5.4\n",
            "D3: 7.3\n",
            "D4: 8.8\n",
            "D5: 12.5\n",
            "D6: 16.799999999999997\n",
            "D7: 19.4\n",
            "D8: 21.6\n",
            "D9: 24.700000000000003\n",
            "Percentis (1º ao 99º):\n",
            "[ 2.11  2.22  2.33  2.44  2.55  2.66  2.77  2.88  2.99  3.2   3.42  3.64\n",
            "  3.86  4.08  4.3   4.52  4.74  4.96  5.18  5.4   5.62  5.84  6.06  6.28\n",
            "  6.5   6.72  6.94  7.08  7.19  7.3   7.41  7.52  7.63  7.74  7.85  7.96\n",
            "  8.14  8.36  8.58  8.8   9.02  9.24  9.46  9.68  9.9  10.3  10.85 11.4\n",
            " 11.95 12.5  13.05 13.6  14.15 14.7  15.15 15.48 15.81 16.14 16.47 16.8\n",
            " 17.13 17.46 17.79 18.08 18.3  18.52 18.74 18.96 19.18 19.4  19.62 19.84\n",
            " 20.06 20.28 20.5  20.72 20.94 21.16 21.38 21.6  21.82 22.06 22.39 22.72\n",
            " 23.05 23.38 23.71 24.04 24.37 24.7  25.05 25.6  26.15 26.7  27.25 27.8\n",
            " 28.35 28.9  29.45]\n"
          ]
        },
        {
          "output_type": "display_data",
          "data": {
            "text/plain": [
              "<Figure size 800x200 with 1 Axes>"
            ],
            "image/png": "[encoded data removed]"
          },
          "metadata": {}
        }
      ]
    },
    {
      "cell_type": "code",
      "source": [
        "import numpy as np\n",
        "\n",
        "# Conjunto de dados\n",
        "dados = [2, 3, 5, 7, 8, 10, 15, 18, 20, 22, 25, 30]\n",
        "\n",
        "# Cálculos\n",
        "media = np.mean(dados)\n",
        "desvio_padrao = np.std(dados)\n",
        "desvio_medio_absoluto = np.mean(np.abs(dados - media))\n",
        "variancia = np.var(dados)\n",
        "variancia_amostral = np.var(dados, ddof=1)  # Variância amostral (n-1)\n",
        "\n",
        "print(\"=== ESTATÍSTICAS DESCRITIVAS ===\")\n",
        "print(f\"Dados: {dados}\")\n",
        "print(f\"Média: {media:.2f}\")\n",
        "print(f\"Desvio padrão populacional: {desvio_padrao:.2f}\")\n",
        "print(f\"Desvio médio absoluto: {desvio_medio_absoluto:.2f}\")\n",
        "print(f\"Variância populacional: {variancia:.2f}\")\n",
        "print(f\"Variância amostral: {variancia_amostral:.2f}\")\n",
        "\n",
        "# Verificação da relação entre desvio padrão e variância\n",
        "print(f\"\\n=== VERIFICAÇÃO ===\")\n",
        "print(f\"Raiz quadrada da variância: {np.sqrt(variancia):.2f}\")\n",
        "print(f\"Coincide com desvio padrão: {np.isclose(np.sqrt(variancia), desvio_padrao)}\")"
      ],
      "metadata": {
        "colab": {
          "base_uri": "https://localhost:8080/"
        },
        "id": "sJT2KLfkxCkd",
        "outputId": "19f1977b-ad47-47ed-f261-afbea5251d42"
      },
      "execution_count": 2,
      "outputs": [
        {
          "output_type": "stream",
          "name": "stdout",
          "text": [
            "=== ESTATÍSTICAS DESCRITIVAS ===\n",
            "Dados: [2, 3, 5, 7, 8, 10, 15, 18, 20, 22, 25, 30]\n",
            "Média: 13.75\n",
            "Desvio padrão populacional: 8.85\n",
            "Desvio médio absoluto: 7.92\n",
            "Variância populacional: 78.35\n",
            "Variância amostral: 85.48\n",
            "\n",
            "=== VERIFICAÇÃO ===\n",
            "Raiz quadrada da variância: 8.85\n",
            "Coincide com desvio padrão: True\n"
          ]
        }
      ]
    }
  ]
}